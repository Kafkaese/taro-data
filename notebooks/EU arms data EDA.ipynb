{
 "cells": [
  {
   "cell_type": "code",
   "execution_count": 1,
   "id": "c78da60a",
   "metadata": {},
   "outputs": [],
   "source": [
    "import pandas as pd"
   ]
  },
  {
   "cell_type": "code",
   "execution_count": 2,
   "id": "a56072e1",
   "metadata": {},
   "outputs": [],
   "source": [
    "df = pd.read_csv('data/eu_arms_exports.csv', delimiter=';', header=None)"
   ]
  },
  {
   "cell_type": "code",
   "execution_count": 3,
   "id": "c0c50a91",
   "metadata": {},
   "outputs": [
    {
     "data": {
      "text/html": [
       "<div>\n",
       "<style scoped>\n",
       "    .dataframe tbody tr th:only-of-type {\n",
       "        vertical-align: middle;\n",
       "    }\n",
       "\n",
       "    .dataframe tbody tr th {\n",
       "        vertical-align: top;\n",
       "    }\n",
       "\n",
       "    .dataframe thead th {\n",
       "        text-align: right;\n",
       "    }\n",
       "</style>\n",
       "<table border=\"1\" class=\"dataframe\">\n",
       "  <thead>\n",
       "    <tr style=\"text-align: right;\">\n",
       "      <th></th>\n",
       "      <th>0</th>\n",
       "      <th>1</th>\n",
       "      <th>2</th>\n",
       "      <th>3</th>\n",
       "      <th>4</th>\n",
       "      <th>5</th>\n",
       "      <th>6</th>\n",
       "      <th>7</th>\n",
       "      <th>8</th>\n",
       "      <th>9</th>\n",
       "      <th>10</th>\n",
       "      <th>11</th>\n",
       "    </tr>\n",
       "  </thead>\n",
       "  <tbody>\n",
       "    <tr>\n",
       "      <th>0</th>\n",
       "      <td>1998</td>\n",
       "      <td>0</td>\n",
       "      <td>AT</td>\n",
       "      <td>Austria</td>\n",
       "      <td></td>\n",
       "      <td></td>\n",
       "      <td></td>\n",
       "      <td></td>\n",
       "      <td></td>\n",
       "      <td>a</td>\n",
       "      <td>1605</td>\n",
       "      <td></td>\n",
       "    </tr>\n",
       "    <tr>\n",
       "      <th>1</th>\n",
       "      <td>1998</td>\n",
       "      <td>0</td>\n",
       "      <td>AT</td>\n",
       "      <td>Austria</td>\n",
       "      <td></td>\n",
       "      <td></td>\n",
       "      <td></td>\n",
       "      <td></td>\n",
       "      <td></td>\n",
       "      <td>b</td>\n",
       "      <td>208741703</td>\n",
       "      <td></td>\n",
       "    </tr>\n",
       "    <tr>\n",
       "      <th>2</th>\n",
       "      <td>1998</td>\n",
       "      <td>0</td>\n",
       "      <td>AT</td>\n",
       "      <td>Austria</td>\n",
       "      <td></td>\n",
       "      <td></td>\n",
       "      <td></td>\n",
       "      <td></td>\n",
       "      <td></td>\n",
       "      <td>d</td>\n",
       "      <td>13</td>\n",
       "      <td></td>\n",
       "    </tr>\n",
       "    <tr>\n",
       "      <th>3</th>\n",
       "      <td>1998</td>\n",
       "      <td>0</td>\n",
       "      <td>BE</td>\n",
       "      <td>Belgium</td>\n",
       "      <td></td>\n",
       "      <td></td>\n",
       "      <td></td>\n",
       "      <td></td>\n",
       "      <td></td>\n",
       "      <td>a</td>\n",
       "      <td>1067</td>\n",
       "      <td></td>\n",
       "    </tr>\n",
       "    <tr>\n",
       "      <th>4</th>\n",
       "      <td>1998</td>\n",
       "      <td>0</td>\n",
       "      <td>BE</td>\n",
       "      <td>Belgium</td>\n",
       "      <td></td>\n",
       "      <td></td>\n",
       "      <td></td>\n",
       "      <td></td>\n",
       "      <td></td>\n",
       "      <td>b</td>\n",
       "      <td>649671652</td>\n",
       "      <td></td>\n",
       "    </tr>\n",
       "  </tbody>\n",
       "</table>\n",
       "</div>"
      ],
      "text/plain": [
       "     0   1    2         3  4  5  6  7  8   9          10 11\n",
       "0  1998   0   AT   Austria                  a       1605   \n",
       "1  1998   0   AT   Austria                  b  208741703   \n",
       "2  1998   0   AT   Austria                  d         13   \n",
       "3  1998   0   BE   Belgium                  a       1067   \n",
       "4  1998   0   BE   Belgium                  b  649671652   "
      ]
     },
     "execution_count": 3,
     "metadata": {},
     "output_type": "execute_result"
    }
   ],
   "source": [
    "df.head()"
   ]
  },
  {
   "cell_type": "code",
   "execution_count": 4,
   "id": "f479ad10",
   "metadata": {},
   "outputs": [],
   "source": [
    "df.drop(columns=[11], inplace=True)"
   ]
  },
  {
   "cell_type": "code",
   "execution_count": 5,
   "id": "29caf370",
   "metadata": {},
   "outputs": [],
   "source": [
    "columns = [\"Year\", \"Embargo\", \"Source country\",\"Source country name\",\"Destination country\",\"Destination country name\",\"Region code\",\"Region name\",\"Rating\",\"Category\", \"Value\"]"
   ]
  },
  {
   "cell_type": "code",
   "execution_count": 6,
   "id": "ff7d50b0",
   "metadata": {},
   "outputs": [
    {
     "data": {
      "text/plain": [
       "11"
      ]
     },
     "execution_count": 6,
     "metadata": {},
     "output_type": "execute_result"
    }
   ],
   "source": [
    "len(columns)"
   ]
  },
  {
   "cell_type": "code",
   "execution_count": 7,
   "id": "f41cba08",
   "metadata": {},
   "outputs": [],
   "source": [
    "df.columns = columns"
   ]
  },
  {
   "cell_type": "code",
   "execution_count": 8,
   "id": "9acfa1ac",
   "metadata": {},
   "outputs": [
    {
     "data": {
      "text/plain": [
       "29"
      ]
     },
     "execution_count": 8,
     "metadata": {},
     "output_type": "execute_result"
    }
   ],
   "source": [
    "df['Source country name'].nunique()"
   ]
  },
  {
   "cell_type": "code",
   "execution_count": 12,
   "id": "cc2436f9",
   "metadata": {},
   "outputs": [
    {
     "data": {
      "text/plain": [
       "array([' ', ' DZ', ' AD', ' AR', ' AU', ' BH', ' BD', ' BB', ' BY', ' BE',\n",
       "       ' BO', ' BA', ' BW', ' BR', ' BN', ' BG', ' KH', ' CM', ' CA',\n",
       "       ' CL', ' CN', ' CO', ' CR', ' HR', ' CY', ' CZ', ' DK', ' DO',\n",
       "       ' EC', ' EG', ' EE', ' FI', ' FR', ' GA', ' GE', ' DE', ' GR',\n",
       "       ' GL', ' GT', ' GY', ' HN', ' HK', ' HU', ' IN', ' ID', ' IR',\n",
       "       ' IE', ' IL', ' IT', ' JM', ' JP', ' JO', ' KZ', ' KE', ' KW',\n",
       "       ' LV', ' LB', ' LI', ' LT', ' LU', ' MO', ' MK', ' MY', ' MU',\n",
       "       ' MX', ' MD', ' MA', ' NA', ' NP', ' NL', ' NZ', ' NI', ' NG',\n",
       "       ' NO', ' OM', ' PK', ' PA', ' PE', ' PH', ' PL', ' PT', ' QA',\n",
       "       ' RO', ' RU', ' LC', ' SA', ' SG', ' SK', ' SI', ' ZA', ' KR',\n",
       "       ' ES', ' SD', ' SR', ' SE', ' CH', ' TW', ' TZ', ' TH', ' TT',\n",
       "       ' TN', ' TR', ' UA', ' AE', ' GB', ' US', ' UY', ' UZ', ' VE',\n",
       "       ' VN', ' YE', ' ZM', ' ZW', ' AT', ' BJ', ' BF', ' CD', ' TL',\n",
       "       ' SV', ' IS', ' MV', ' ML', ' MT', ' ER', ' GH', ' GN', ' CI',\n",
       "       ' LY', ' MW', ' NE', ' SN', ' LK', ' TG', ' BZ', ' BT', ' DM',\n",
       "       ' ET', ' FO', ' MN', ' PG', ' PY', ' RW', ' SM', ' SO', ' TM',\n",
       "       ' SY', ' AZ', ' LA', ' MR', ' KP', ' SL', ' AO', ' TD', ' CU',\n",
       "       ' AF', ' AL', ' AG', ' AM', ' BS', ' BI', ' CG', ' GQ', ' FJ',\n",
       "       ' GM', ' GD', ' IQ', ' KG', ' LS', ' MC', ' MZ', ' MM', ' WS',\n",
       "       ' SC', ' TJ', ' UG', ' NC', ' PW', ' DJ', ' HT', ' PS', ' VA',\n",
       "       ' TO', ' CV', ' GW', ' MG', ' NR', ' KN', ' VC', ' SB', ' SZ',\n",
       "       ' VU', ' LR', ' ST', ' PF', ' YT', ' AW', ' BM', ' KY', ' CF',\n",
       "       ' FK', ' GI', ' RS', ' ME', ' VG', ' SH', ' TC', ' SS', ' KM',\n",
       "       ' CW', ' BQ', ' GG', ' JE', ' MF', ' BL', ' MH'], dtype=object)"
      ]
     },
     "execution_count": 12,
     "metadata": {},
     "output_type": "execute_result"
    }
   ],
   "source": []
  },
  {
   "cell_type": "code",
   "execution_count": 16,
   "id": "66bf4eea",
   "metadata": {},
   "outputs": [
    {
     "data": {
      "text/html": [
       "<div>\n",
       "<style scoped>\n",
       "    .dataframe tbody tr th:only-of-type {\n",
       "        vertical-align: middle;\n",
       "    }\n",
       "\n",
       "    .dataframe tbody tr th {\n",
       "        vertical-align: top;\n",
       "    }\n",
       "\n",
       "    .dataframe thead th {\n",
       "        text-align: right;\n",
       "    }\n",
       "</style>\n",
       "<table border=\"1\" class=\"dataframe\">\n",
       "  <thead>\n",
       "    <tr style=\"text-align: right;\">\n",
       "      <th></th>\n",
       "      <th>Year</th>\n",
       "      <th>Embargo</th>\n",
       "      <th>Source country</th>\n",
       "      <th>Source country name</th>\n",
       "      <th>Destination country</th>\n",
       "      <th>Destination country name</th>\n",
       "      <th>Region code</th>\n",
       "      <th>Region name</th>\n",
       "      <th>Rating</th>\n",
       "      <th>Category</th>\n",
       "      <th>Value</th>\n",
       "    </tr>\n",
       "  </thead>\n",
       "  <tbody>\n",
       "    <tr>\n",
       "      <th>231139</th>\n",
       "      <td>2020</td>\n",
       "      <td>0</td>\n",
       "      <td></td>\n",
       "      <td></td>\n",
       "      <td>MM</td>\n",
       "      <td>Myanmar</td>\n",
       "      <td>ASSE</td>\n",
       "      <td>South East Asia</td>\n",
       "      <td>ML21</td>\n",
       "      <td>d</td>\n",
       "      <td>1</td>\n",
       "    </tr>\n",
       "    <tr>\n",
       "      <th>231140</th>\n",
       "      <td>2020</td>\n",
       "      <td>0</td>\n",
       "      <td></td>\n",
       "      <td></td>\n",
       "      <td>MM</td>\n",
       "      <td>Myanmar</td>\n",
       "      <td>ASSE</td>\n",
       "      <td>South East Asia</td>\n",
       "      <td>ML7</td>\n",
       "      <td>d</td>\n",
       "      <td>1</td>\n",
       "    </tr>\n",
       "  </tbody>\n",
       "</table>\n",
       "</div>"
      ],
      "text/plain": [
       "        Year  Embargo Source country Source country name Destination country  \\\n",
       "231139  2020        0                                                     MM   \n",
       "231140  2020        0                                                     MM   \n",
       "\n",
       "       Destination country name Region code       Region name Rating Category  \\\n",
       "231139                  Myanmar        ASSE   South East Asia   ML21        d   \n",
       "231140                  Myanmar        ASSE   South East Asia    ML7        d   \n",
       "\n",
       "        Value  \n",
       "231139      1  \n",
       "231140      1  "
      ]
     },
     "execution_count": 16,
     "metadata": {},
     "output_type": "execute_result"
    }
   ],
   "source": [
    "df[df['Destination country'] == ' MM'][df[df['Destination country'] == ' MM']['Year'] == 2020]"
   ]
  },
  {
   "cell_type": "markdown",
   "id": "8232bb9a",
   "metadata": {},
   "source": [
    "## Export data per country across all available years"
   ]
  },
  {
   "cell_type": "code",
   "execution_count": 152,
   "id": "aeee649e",
   "metadata": {},
   "outputs": [],
   "source": [
    "exports_df = df.groupby(by = 'Source country').sum()[['Value']]"
   ]
  },
  {
   "cell_type": "code",
   "execution_count": 153,
   "id": "54a15d5b",
   "metadata": {},
   "outputs": [
    {
     "data": {
      "text/html": [
       "<div>\n",
       "<style scoped>\n",
       "    .dataframe tbody tr th:only-of-type {\n",
       "        vertical-align: middle;\n",
       "    }\n",
       "\n",
       "    .dataframe tbody tr th {\n",
       "        vertical-align: top;\n",
       "    }\n",
       "\n",
       "    .dataframe thead th {\n",
       "        text-align: right;\n",
       "    }\n",
       "</style>\n",
       "<table border=\"1\" class=\"dataframe\">\n",
       "  <thead>\n",
       "    <tr style=\"text-align: right;\">\n",
       "      <th></th>\n",
       "      <th>Value</th>\n",
       "    </tr>\n",
       "    <tr>\n",
       "      <th>Source country</th>\n",
       "      <th></th>\n",
       "    </tr>\n",
       "  </thead>\n",
       "  <tbody>\n",
       "    <tr>\n",
       "      <th></th>\n",
       "      <td>245986615</td>\n",
       "    </tr>\n",
       "    <tr>\n",
       "      <th>AT</th>\n",
       "      <td>33383450600</td>\n",
       "    </tr>\n",
       "    <tr>\n",
       "      <th>BE</th>\n",
       "      <td>29141822577</td>\n",
       "    </tr>\n",
       "    <tr>\n",
       "      <th>BG</th>\n",
       "      <td>17091067547</td>\n",
       "    </tr>\n",
       "    <tr>\n",
       "      <th>CY</th>\n",
       "      <td>19291983</td>\n",
       "    </tr>\n",
       "  </tbody>\n",
       "</table>\n",
       "</div>"
      ],
      "text/plain": [
       "                      Value\n",
       "Source country             \n",
       "                  245986615\n",
       " AT             33383450600\n",
       " BE             29141822577\n",
       " BG             17091067547\n",
       " CY                19291983"
      ]
     },
     "execution_count": 153,
     "metadata": {},
     "output_type": "execute_result"
    }
   ],
   "source": [
    "exports_df.head()"
   ]
  },
  {
   "cell_type": "code",
   "execution_count": 154,
   "id": "b2dc1ba4",
   "metadata": {},
   "outputs": [],
   "source": [
    "exports_df.index = [country.strip() for country in exports_df.index]"
   ]
  },
  {
   "cell_type": "code",
   "execution_count": 155,
   "id": "2e85754b",
   "metadata": {},
   "outputs": [
    {
     "data": {
      "text/plain": [
       "Index(['', 'AT', 'BE', 'BG', 'CY', 'CZ', 'DE', 'DK', 'EE', 'ES', 'FI', 'FR',\n",
       "       'GB', 'GR', 'HR', 'HU', 'IE', 'IT', 'LT', 'LU', 'LV', 'MT', 'NL', 'PL',\n",
       "       'PT', 'RO', 'SE', 'SI', 'SK'],\n",
       "      dtype='object')"
      ]
     },
     "execution_count": 155,
     "metadata": {},
     "output_type": "execute_result"
    }
   ],
   "source": [
    "exports_df.index"
   ]
  },
  {
   "cell_type": "code",
   "execution_count": 156,
   "id": "fae08113",
   "metadata": {},
   "outputs": [],
   "source": [
    "exports_df.to_csv('data/total_exports.csv')"
   ]
  },
  {
   "cell_type": "code",
   "execution_count": 157,
   "id": "1101a00a",
   "metadata": {},
   "outputs": [
    {
     "data": {
      "text/plain": [
       "33383450600"
      ]
     },
     "execution_count": 157,
     "metadata": {},
     "output_type": "execute_result"
    }
   ],
   "source": [
    "exports_df.loc['AT', 'Value']"
   ]
  },
  {
   "cell_type": "code",
   "execution_count": 62,
   "id": "7a0854e8",
   "metadata": {},
   "outputs": [],
   "source": [
    "df = pd.read_csv(\"data/total_exports.csv\", index_col=0)"
   ]
  },
  {
   "cell_type": "code",
   "execution_count": 64,
   "id": "4330b271",
   "metadata": {},
   "outputs": [
    {
     "data": {
      "text/plain": [
       "33383450600"
      ]
     },
     "execution_count": 64,
     "metadata": {},
     "output_type": "execute_result"
    }
   ],
   "source": [
    "df.loc['Austria', 'Value']"
   ]
  },
  {
   "cell_type": "markdown",
   "id": "5539e96a",
   "metadata": {},
   "source": [
    "## Import Data per country across all years"
   ]
  },
  {
   "cell_type": "code",
   "execution_count": 9,
   "id": "34f4c842",
   "metadata": {},
   "outputs": [],
   "source": [
    "imports_df = df.groupby(by = 'Destination country').sum()[['Value']]"
   ]
  },
  {
   "cell_type": "code",
   "execution_count": 10,
   "id": "cc1389ce",
   "metadata": {},
   "outputs": [
    {
     "data": {
      "text/html": [
       "<div>\n",
       "<style scoped>\n",
       "    .dataframe tbody tr th:only-of-type {\n",
       "        vertical-align: middle;\n",
       "    }\n",
       "\n",
       "    .dataframe tbody tr th {\n",
       "        vertical-align: top;\n",
       "    }\n",
       "\n",
       "    .dataframe thead th {\n",
       "        text-align: right;\n",
       "    }\n",
       "</style>\n",
       "<table border=\"1\" class=\"dataframe\">\n",
       "  <thead>\n",
       "    <tr style=\"text-align: right;\">\n",
       "      <th></th>\n",
       "      <th>Value</th>\n",
       "    </tr>\n",
       "    <tr>\n",
       "      <th>Destination country</th>\n",
       "      <th></th>\n",
       "    </tr>\n",
       "  </thead>\n",
       "  <tbody>\n",
       "    <tr>\n",
       "      <th></th>\n",
       "      <td>72222771572</td>\n",
       "    </tr>\n",
       "    <tr>\n",
       "      <th>AD</th>\n",
       "      <td>11971175</td>\n",
       "    </tr>\n",
       "    <tr>\n",
       "      <th>AE</th>\n",
       "      <td>121992061585</td>\n",
       "    </tr>\n",
       "    <tr>\n",
       "      <th>AF</th>\n",
       "      <td>2951762413</td>\n",
       "    </tr>\n",
       "    <tr>\n",
       "      <th>AG</th>\n",
       "      <td>1862150</td>\n",
       "    </tr>\n",
       "    <tr>\n",
       "      <th>...</th>\n",
       "      <td>...</td>\n",
       "    </tr>\n",
       "    <tr>\n",
       "      <th>YE</th>\n",
       "      <td>563178977</td>\n",
       "    </tr>\n",
       "    <tr>\n",
       "      <th>YT</th>\n",
       "      <td>7757</td>\n",
       "    </tr>\n",
       "    <tr>\n",
       "      <th>ZA</th>\n",
       "      <td>12062147607</td>\n",
       "    </tr>\n",
       "    <tr>\n",
       "      <th>ZM</th>\n",
       "      <td>375258450</td>\n",
       "    </tr>\n",
       "    <tr>\n",
       "      <th>ZW</th>\n",
       "      <td>1449048</td>\n",
       "    </tr>\n",
       "  </tbody>\n",
       "</table>\n",
       "<p>215 rows × 1 columns</p>\n",
       "</div>"
      ],
      "text/plain": [
       "                            Value\n",
       "Destination country              \n",
       "                      72222771572\n",
       " AD                      11971175\n",
       " AE                  121992061585\n",
       " AF                    2951762413\n",
       " AG                       1862150\n",
       "...                           ...\n",
       " YE                     563178977\n",
       " YT                          7757\n",
       " ZA                   12062147607\n",
       " ZM                     375258450\n",
       " ZW                       1449048\n",
       "\n",
       "[215 rows x 1 columns]"
      ]
     },
     "execution_count": 10,
     "metadata": {},
     "output_type": "execute_result"
    }
   ],
   "source": [
    "imports_df"
   ]
  },
  {
   "cell_type": "code",
   "execution_count": 116,
   "id": "b38dc92a",
   "metadata": {},
   "outputs": [],
   "source": [
    "#imports_df.index = [country.strip() for country in imports_df.index]"
   ]
  },
  {
   "cell_type": "code",
   "execution_count": 139,
   "id": "c2f17bf8",
   "metadata": {},
   "outputs": [],
   "source": [
    "imports_df.loc[:, 'Value'] = round(imports_df.Value/1_000_000)"
   ]
  },
  {
   "cell_type": "code",
   "execution_count": 140,
   "id": "de8061d0",
   "metadata": {},
   "outputs": [],
   "source": [
    "#imports_df.index = [country.strip() for country in imports_df.index]"
   ]
  },
  {
   "cell_type": "code",
   "execution_count": 141,
   "id": "da965bf2",
   "metadata": {},
   "outputs": [
    {
     "data": {
      "text/html": [
       "<div>\n",
       "<style scoped>\n",
       "    .dataframe tbody tr th:only-of-type {\n",
       "        vertical-align: middle;\n",
       "    }\n",
       "\n",
       "    .dataframe tbody tr th {\n",
       "        vertical-align: top;\n",
       "    }\n",
       "\n",
       "    .dataframe thead th {\n",
       "        text-align: right;\n",
       "    }\n",
       "</style>\n",
       "<table border=\"1\" class=\"dataframe\">\n",
       "  <thead>\n",
       "    <tr style=\"text-align: right;\">\n",
       "      <th></th>\n",
       "      <th>Value</th>\n",
       "    </tr>\n",
       "  </thead>\n",
       "  <tbody>\n",
       "    <tr>\n",
       "      <th>count</th>\n",
       "      <td>215.000000</td>\n",
       "    </tr>\n",
       "    <tr>\n",
       "      <th>mean</th>\n",
       "      <td>8317.418605</td>\n",
       "    </tr>\n",
       "    <tr>\n",
       "      <th>std</th>\n",
       "      <td>20709.056330</td>\n",
       "    </tr>\n",
       "    <tr>\n",
       "      <th>min</th>\n",
       "      <td>0.000000</td>\n",
       "    </tr>\n",
       "    <tr>\n",
       "      <th>25%</th>\n",
       "      <td>11.500000</td>\n",
       "    </tr>\n",
       "    <tr>\n",
       "      <th>50%</th>\n",
       "      <td>391.000000</td>\n",
       "    </tr>\n",
       "    <tr>\n",
       "      <th>75%</th>\n",
       "      <td>4836.000000</td>\n",
       "    </tr>\n",
       "    <tr>\n",
       "      <th>max</th>\n",
       "      <td>141299.000000</td>\n",
       "    </tr>\n",
       "  </tbody>\n",
       "</table>\n",
       "</div>"
      ],
      "text/plain": [
       "               Value\n",
       "count     215.000000\n",
       "mean     8317.418605\n",
       "std     20709.056330\n",
       "min         0.000000\n",
       "25%        11.500000\n",
       "50%       391.000000\n",
       "75%      4836.000000\n",
       "max    141299.000000"
      ]
     },
     "execution_count": 141,
     "metadata": {},
     "output_type": "execute_result"
    }
   ],
   "source": [
    "imports_df.describe()"
   ]
  },
  {
   "cell_type": "code",
   "execution_count": 11,
   "id": "afbf8797",
   "metadata": {},
   "outputs": [],
   "source": [
    "imports_df.index = [x.strip() for x in imports_df.index]"
   ]
  },
  {
   "cell_type": "code",
   "execution_count": 12,
   "id": "79abeb34",
   "metadata": {},
   "outputs": [
    {
     "data": {
      "text/html": [
       "<div>\n",
       "<style scoped>\n",
       "    .dataframe tbody tr th:only-of-type {\n",
       "        vertical-align: middle;\n",
       "    }\n",
       "\n",
       "    .dataframe tbody tr th {\n",
       "        vertical-align: top;\n",
       "    }\n",
       "\n",
       "    .dataframe thead th {\n",
       "        text-align: right;\n",
       "    }\n",
       "</style>\n",
       "<table border=\"1\" class=\"dataframe\">\n",
       "  <thead>\n",
       "    <tr style=\"text-align: right;\">\n",
       "      <th></th>\n",
       "      <th>Value</th>\n",
       "    </tr>\n",
       "  </thead>\n",
       "  <tbody>\n",
       "    <tr>\n",
       "      <th></th>\n",
       "      <td>72222771572</td>\n",
       "    </tr>\n",
       "    <tr>\n",
       "      <th>AD</th>\n",
       "      <td>11971175</td>\n",
       "    </tr>\n",
       "    <tr>\n",
       "      <th>AE</th>\n",
       "      <td>121992061585</td>\n",
       "    </tr>\n",
       "    <tr>\n",
       "      <th>AF</th>\n",
       "      <td>2951762413</td>\n",
       "    </tr>\n",
       "    <tr>\n",
       "      <th>AG</th>\n",
       "      <td>1862150</td>\n",
       "    </tr>\n",
       "    <tr>\n",
       "      <th>...</th>\n",
       "      <td>...</td>\n",
       "    </tr>\n",
       "    <tr>\n",
       "      <th>YE</th>\n",
       "      <td>563178977</td>\n",
       "    </tr>\n",
       "    <tr>\n",
       "      <th>YT</th>\n",
       "      <td>7757</td>\n",
       "    </tr>\n",
       "    <tr>\n",
       "      <th>ZA</th>\n",
       "      <td>12062147607</td>\n",
       "    </tr>\n",
       "    <tr>\n",
       "      <th>ZM</th>\n",
       "      <td>375258450</td>\n",
       "    </tr>\n",
       "    <tr>\n",
       "      <th>ZW</th>\n",
       "      <td>1449048</td>\n",
       "    </tr>\n",
       "  </tbody>\n",
       "</table>\n",
       "<p>215 rows × 1 columns</p>\n",
       "</div>"
      ],
      "text/plain": [
       "           Value\n",
       "     72222771572\n",
       "AD      11971175\n",
       "AE  121992061585\n",
       "AF    2951762413\n",
       "AG       1862150\n",
       "..           ...\n",
       "YE     563178977\n",
       "YT          7757\n",
       "ZA   12062147607\n",
       "ZM     375258450\n",
       "ZW       1449048\n",
       "\n",
       "[215 rows x 1 columns]"
      ]
     },
     "execution_count": 12,
     "metadata": {},
     "output_type": "execute_result"
    }
   ],
   "source": [
    "imports_df"
   ]
  },
  {
   "cell_type": "code",
   "execution_count": 13,
   "id": "fb1435b8",
   "metadata": {},
   "outputs": [],
   "source": [
    "imports_df.to_csv('data/total_imports.csv')"
   ]
  },
  {
   "cell_type": "code",
   "execution_count": 14,
   "id": "558f0b87",
   "metadata": {},
   "outputs": [
    {
     "data": {
      "text/plain": [
       "29755755939"
      ]
     },
     "execution_count": 14,
     "metadata": {},
     "output_type": "execute_result"
    }
   ],
   "source": [
    "pd.read_csv('data/total_imports.csv', index_col=0).loc['CA', 'Value']"
   ]
  },
  {
   "cell_type": "markdown",
   "id": "152b13e5",
   "metadata": {},
   "source": [
    "## Demodrcy Index"
   ]
  },
  {
   "cell_type": "code",
   "execution_count": 84,
   "id": "a3000e22",
   "metadata": {},
   "outputs": [],
   "source": [
    "democracy_index_data = pd.read_csv('data/democracy_index.csv',  index_col=0)\n"
   ]
  },
  {
   "cell_type": "code",
   "execution_count": 85,
   "id": "b0fb1645",
   "metadata": {},
   "outputs": [
    {
     "data": {
      "text/html": [
       "<div>\n",
       "<style scoped>\n",
       "    .dataframe tbody tr th:only-of-type {\n",
       "        vertical-align: middle;\n",
       "    }\n",
       "\n",
       "    .dataframe tbody tr th {\n",
       "        vertical-align: top;\n",
       "    }\n",
       "\n",
       "    .dataframe thead th {\n",
       "        text-align: right;\n",
       "    }\n",
       "</style>\n",
       "<table border=\"1\" class=\"dataframe\">\n",
       "  <thead>\n",
       "    <tr style=\"text-align: right;\">\n",
       "      <th></th>\n",
       "      <th>Regime type</th>\n",
       "      <th>2022</th>\n",
       "      <th>2021</th>\n",
       "      <th>2020</th>\n",
       "      <th>2019</th>\n",
       "      <th>2018</th>\n",
       "      <th>2017</th>\n",
       "      <th>2016</th>\n",
       "      <th>2015</th>\n",
       "      <th>2014</th>\n",
       "      <th>2013</th>\n",
       "      <th>2012</th>\n",
       "      <th>2011</th>\n",
       "      <th>2010</th>\n",
       "      <th>2008</th>\n",
       "      <th>2006</th>\n",
       "    </tr>\n",
       "    <tr>\n",
       "      <th>Country</th>\n",
       "      <th></th>\n",
       "      <th></th>\n",
       "      <th></th>\n",
       "      <th></th>\n",
       "      <th></th>\n",
       "      <th></th>\n",
       "      <th></th>\n",
       "      <th></th>\n",
       "      <th></th>\n",
       "      <th></th>\n",
       "      <th></th>\n",
       "      <th></th>\n",
       "      <th></th>\n",
       "      <th></th>\n",
       "      <th></th>\n",
       "      <th></th>\n",
       "    </tr>\n",
       "  </thead>\n",
       "  <tbody>\n",
       "    <tr>\n",
       "      <th>Canada</th>\n",
       "      <td>Full democracy</td>\n",
       "      <td>8.88</td>\n",
       "      <td>8.87</td>\n",
       "      <td>9.24</td>\n",
       "      <td>9.22</td>\n",
       "      <td>9.15</td>\n",
       "      <td>9.15</td>\n",
       "      <td>9.15</td>\n",
       "      <td>9.08</td>\n",
       "      <td>9.08</td>\n",
       "      <td>9.08</td>\n",
       "      <td>9.08</td>\n",
       "      <td>9.08</td>\n",
       "      <td>9.08</td>\n",
       "      <td>9.07</td>\n",
       "      <td>9.07</td>\n",
       "    </tr>\n",
       "    <tr>\n",
       "      <th>United States</th>\n",
       "      <td>Flawed democracy</td>\n",
       "      <td>7.85</td>\n",
       "      <td>7.85</td>\n",
       "      <td>7.92</td>\n",
       "      <td>7.96</td>\n",
       "      <td>7.96</td>\n",
       "      <td>7.98</td>\n",
       "      <td>7.98</td>\n",
       "      <td>8.05</td>\n",
       "      <td>8.11</td>\n",
       "      <td>8.11</td>\n",
       "      <td>8.11</td>\n",
       "      <td>8.11</td>\n",
       "      <td>8.18</td>\n",
       "      <td>8.22</td>\n",
       "      <td>8.22</td>\n",
       "    </tr>\n",
       "    <tr>\n",
       "      <th>Austria</th>\n",
       "      <td>Full democracy</td>\n",
       "      <td>8.20</td>\n",
       "      <td>8.07</td>\n",
       "      <td>8.16</td>\n",
       "      <td>8.29</td>\n",
       "      <td>8.29</td>\n",
       "      <td>8.42</td>\n",
       "      <td>8.41</td>\n",
       "      <td>8.54</td>\n",
       "      <td>8.54</td>\n",
       "      <td>8.48</td>\n",
       "      <td>8.62</td>\n",
       "      <td>8.49</td>\n",
       "      <td>8.49</td>\n",
       "      <td>8.49</td>\n",
       "      <td>8.69</td>\n",
       "    </tr>\n",
       "    <tr>\n",
       "      <th>Belgium</th>\n",
       "      <td>Flawed democracy</td>\n",
       "      <td>7.64</td>\n",
       "      <td>7.51</td>\n",
       "      <td>7.51</td>\n",
       "      <td>7.64</td>\n",
       "      <td>7.78</td>\n",
       "      <td>7.78</td>\n",
       "      <td>7.77</td>\n",
       "      <td>7.93</td>\n",
       "      <td>7.93</td>\n",
       "      <td>8.05</td>\n",
       "      <td>8.05</td>\n",
       "      <td>8.05</td>\n",
       "      <td>8.05</td>\n",
       "      <td>8.16</td>\n",
       "      <td>8.15</td>\n",
       "    </tr>\n",
       "    <tr>\n",
       "      <th>Cyprus</th>\n",
       "      <td>Flawed democracy</td>\n",
       "      <td>7.38</td>\n",
       "      <td>7.43</td>\n",
       "      <td>7.56</td>\n",
       "      <td>7.59</td>\n",
       "      <td>7.59</td>\n",
       "      <td>7.59</td>\n",
       "      <td>7.65</td>\n",
       "      <td>7.53</td>\n",
       "      <td>7.40</td>\n",
       "      <td>7.29</td>\n",
       "      <td>7.29</td>\n",
       "      <td>7.29</td>\n",
       "      <td>7.29</td>\n",
       "      <td>7.70</td>\n",
       "      <td>7.60</td>\n",
       "    </tr>\n",
       "    <tr>\n",
       "      <th>...</th>\n",
       "      <td>...</td>\n",
       "      <td>...</td>\n",
       "      <td>...</td>\n",
       "      <td>...</td>\n",
       "      <td>...</td>\n",
       "      <td>...</td>\n",
       "      <td>...</td>\n",
       "      <td>...</td>\n",
       "      <td>...</td>\n",
       "      <td>...</td>\n",
       "      <td>...</td>\n",
       "      <td>...</td>\n",
       "      <td>...</td>\n",
       "      <td>...</td>\n",
       "      <td>...</td>\n",
       "      <td>...</td>\n",
       "    </tr>\n",
       "    <tr>\n",
       "      <th>Tanzania</th>\n",
       "      <td>Hybrid regime</td>\n",
       "      <td>5.10</td>\n",
       "      <td>5.10</td>\n",
       "      <td>5.10</td>\n",
       "      <td>5.16</td>\n",
       "      <td>5.41</td>\n",
       "      <td>5.47</td>\n",
       "      <td>5.76</td>\n",
       "      <td>5.58</td>\n",
       "      <td>5.77</td>\n",
       "      <td>5.77</td>\n",
       "      <td>5.88</td>\n",
       "      <td>5.64</td>\n",
       "      <td>5.64</td>\n",
       "      <td>5.28</td>\n",
       "      <td>5.18</td>\n",
       "    </tr>\n",
       "    <tr>\n",
       "      <th>Togo</th>\n",
       "      <td>Authoritarian</td>\n",
       "      <td>2.99</td>\n",
       "      <td>2.80</td>\n",
       "      <td>2.80</td>\n",
       "      <td>3.30</td>\n",
       "      <td>3.10</td>\n",
       "      <td>3.05</td>\n",
       "      <td>3.32</td>\n",
       "      <td>3.41</td>\n",
       "      <td>3.45</td>\n",
       "      <td>3.45</td>\n",
       "      <td>3.45</td>\n",
       "      <td>3.45</td>\n",
       "      <td>3.45</td>\n",
       "      <td>2.43</td>\n",
       "      <td>1.75</td>\n",
       "    </tr>\n",
       "    <tr>\n",
       "      <th>Uganda</th>\n",
       "      <td>Hybrid regime</td>\n",
       "      <td>4.55</td>\n",
       "      <td>4.48</td>\n",
       "      <td>4.94</td>\n",
       "      <td>5.02</td>\n",
       "      <td>5.20</td>\n",
       "      <td>5.09</td>\n",
       "      <td>5.26</td>\n",
       "      <td>5.22</td>\n",
       "      <td>5.22</td>\n",
       "      <td>5.22</td>\n",
       "      <td>5.16</td>\n",
       "      <td>5.13</td>\n",
       "      <td>5.05</td>\n",
       "      <td>5.03</td>\n",
       "      <td>5.14</td>\n",
       "    </tr>\n",
       "    <tr>\n",
       "      <th>Zambia</th>\n",
       "      <td>Hybrid regime</td>\n",
       "      <td>5.80</td>\n",
       "      <td>5.72</td>\n",
       "      <td>4.86</td>\n",
       "      <td>5.09</td>\n",
       "      <td>5.61</td>\n",
       "      <td>5.68</td>\n",
       "      <td>5.99</td>\n",
       "      <td>6.28</td>\n",
       "      <td>6.39</td>\n",
       "      <td>6.26</td>\n",
       "      <td>6.26</td>\n",
       "      <td>6.19</td>\n",
       "      <td>5.68</td>\n",
       "      <td>5.25</td>\n",
       "      <td>5.25</td>\n",
       "    </tr>\n",
       "    <tr>\n",
       "      <th>Zimbabwe</th>\n",
       "      <td>Authoritarian</td>\n",
       "      <td>2.92</td>\n",
       "      <td>2.92</td>\n",
       "      <td>3.16</td>\n",
       "      <td>3.16</td>\n",
       "      <td>3.16</td>\n",
       "      <td>3.16</td>\n",
       "      <td>3.05</td>\n",
       "      <td>3.05</td>\n",
       "      <td>2.78</td>\n",
       "      <td>2.67</td>\n",
       "      <td>2.67</td>\n",
       "      <td>2.68</td>\n",
       "      <td>2.64</td>\n",
       "      <td>2.53</td>\n",
       "      <td>2.62</td>\n",
       "    </tr>\n",
       "  </tbody>\n",
       "</table>\n",
       "<p>167 rows × 16 columns</p>\n",
       "</div>"
      ],
      "text/plain": [
       "                    Regime type  2022  2021  2020  2019  2018  2017  2016  \\\n",
       "Country                                                                     \n",
       "Canada           Full democracy  8.88  8.87  9.24  9.22  9.15  9.15  9.15   \n",
       "United States  Flawed democracy  7.85  7.85  7.92  7.96  7.96  7.98  7.98   \n",
       "Austria          Full democracy  8.20  8.07  8.16  8.29  8.29  8.42  8.41   \n",
       "Belgium        Flawed democracy  7.64  7.51  7.51  7.64  7.78  7.78  7.77   \n",
       "Cyprus         Flawed democracy  7.38  7.43  7.56  7.59  7.59  7.59  7.65   \n",
       "...                         ...   ...   ...   ...   ...   ...   ...   ...   \n",
       "Tanzania          Hybrid regime  5.10  5.10  5.10  5.16  5.41  5.47  5.76   \n",
       "Togo              Authoritarian  2.99  2.80  2.80  3.30  3.10  3.05  3.32   \n",
       "Uganda            Hybrid regime  4.55  4.48  4.94  5.02  5.20  5.09  5.26   \n",
       "Zambia            Hybrid regime  5.80  5.72  4.86  5.09  5.61  5.68  5.99   \n",
       "Zimbabwe          Authoritarian  2.92  2.92  3.16  3.16  3.16  3.16  3.05   \n",
       "\n",
       "               2015  2014  2013  2012  2011  2010  2008  2006  \n",
       "Country                                                        \n",
       "Canada         9.08  9.08  9.08  9.08  9.08  9.08  9.07  9.07  \n",
       "United States  8.05  8.11  8.11  8.11  8.11  8.18  8.22  8.22  \n",
       "Austria        8.54  8.54  8.48  8.62  8.49  8.49  8.49  8.69  \n",
       "Belgium        7.93  7.93  8.05  8.05  8.05  8.05  8.16  8.15  \n",
       "Cyprus         7.53  7.40  7.29  7.29  7.29  7.29  7.70  7.60  \n",
       "...             ...   ...   ...   ...   ...   ...   ...   ...  \n",
       "Tanzania       5.58  5.77  5.77  5.88  5.64  5.64  5.28  5.18  \n",
       "Togo           3.41  3.45  3.45  3.45  3.45  3.45  2.43  1.75  \n",
       "Uganda         5.22  5.22  5.22  5.16  5.13  5.05  5.03  5.14  \n",
       "Zambia         6.28  6.39  6.26  6.26  6.19  5.68  5.25  5.25  \n",
       "Zimbabwe       3.05  2.78  2.67  2.67  2.68  2.64  2.53  2.62  \n",
       "\n",
       "[167 rows x 16 columns]"
      ]
     },
     "execution_count": 85,
     "metadata": {},
     "output_type": "execute_result"
    }
   ],
   "source": [
    "democracy_index_data"
   ]
  },
  {
   "cell_type": "code",
   "execution_count": null,
   "id": "84e9a435",
   "metadata": {},
   "outputs": [],
   "source": []
  }
 ],
 "metadata": {
  "kernelspec": {
   "display_name": "taro",
   "language": "python",
   "name": "taro"
  },
  "language_info": {
   "codemirror_mode": {
    "name": "ipython",
    "version": 3
   },
   "file_extension": ".py",
   "mimetype": "text/x-python",
   "name": "python",
   "nbconvert_exporter": "python",
   "pygments_lexer": "ipython3",
   "version": "3.8.12"
  },
  "toc": {
   "base_numbering": 1,
   "nav_menu": {},
   "number_sections": true,
   "sideBar": true,
   "skip_h1_title": false,
   "title_cell": "Table of Contents",
   "title_sidebar": "Contents",
   "toc_cell": false,
   "toc_position": {},
   "toc_section_display": true,
   "toc_window_display": false
  }
 },
 "nbformat": 4,
 "nbformat_minor": 5
}
