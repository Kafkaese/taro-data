{
 "cells": [
  {
   "cell_type": "code",
   "execution_count": 1,
   "id": "db7ccf76",
   "metadata": {},
   "outputs": [],
   "source": [
    "import pandas as pd"
   ]
  },
  {
   "cell_type": "code",
   "execution_count": 2,
   "id": "9e1fba6c",
   "metadata": {},
   "outputs": [],
   "source": [
    "df = pd.read_csv('../data/API_MS.MIL.XPRT.KD_DS2_en_csv_v2_5455003/API_MS.MIL.XPRT.KD_DS2_en_csv_v2_5455003.csv')"
   ]
  },
  {
   "cell_type": "code",
   "execution_count": 3,
   "id": "faddb639",
   "metadata": {},
   "outputs": [
    {
     "data": {
      "text/html": [
       "<div>\n",
       "<style scoped>\n",
       "    .dataframe tbody tr th:only-of-type {\n",
       "        vertical-align: middle;\n",
       "    }\n",
       "\n",
       "    .dataframe tbody tr th {\n",
       "        vertical-align: top;\n",
       "    }\n",
       "\n",
       "    .dataframe thead th {\n",
       "        text-align: right;\n",
       "    }\n",
       "</style>\n",
       "<table border=\"1\" class=\"dataframe\">\n",
       "  <thead>\n",
       "    <tr style=\"text-align: right;\">\n",
       "      <th></th>\n",
       "      <th>Country Name</th>\n",
       "      <th>Country Code</th>\n",
       "      <th>Indicator Name</th>\n",
       "      <th>Indicator Code</th>\n",
       "      <th>1960</th>\n",
       "      <th>1961</th>\n",
       "      <th>1962</th>\n",
       "      <th>1963</th>\n",
       "      <th>1964</th>\n",
       "      <th>1965</th>\n",
       "      <th>...</th>\n",
       "      <th>2014</th>\n",
       "      <th>2015</th>\n",
       "      <th>2016</th>\n",
       "      <th>2017</th>\n",
       "      <th>2018</th>\n",
       "      <th>2019</th>\n",
       "      <th>2020</th>\n",
       "      <th>2021</th>\n",
       "      <th>2022</th>\n",
       "      <th>Unnamed: 67</th>\n",
       "    </tr>\n",
       "  </thead>\n",
       "  <tbody>\n",
       "    <tr>\n",
       "      <th>0</th>\n",
       "      <td>Aruba</td>\n",
       "      <td>ABW</td>\n",
       "      <td>Arms exports (SIPRI trend indicator values)</td>\n",
       "      <td>MS.MIL.XPRT.KD</td>\n",
       "      <td>NaN</td>\n",
       "      <td>NaN</td>\n",
       "      <td>NaN</td>\n",
       "      <td>NaN</td>\n",
       "      <td>NaN</td>\n",
       "      <td>NaN</td>\n",
       "      <td>...</td>\n",
       "      <td>NaN</td>\n",
       "      <td>NaN</td>\n",
       "      <td>NaN</td>\n",
       "      <td>NaN</td>\n",
       "      <td>NaN</td>\n",
       "      <td>NaN</td>\n",
       "      <td>NaN</td>\n",
       "      <td>NaN</td>\n",
       "      <td>NaN</td>\n",
       "      <td>NaN</td>\n",
       "    </tr>\n",
       "    <tr>\n",
       "      <th>1</th>\n",
       "      <td>Africa Eastern and Southern</td>\n",
       "      <td>AFE</td>\n",
       "      <td>Arms exports (SIPRI trend indicator values)</td>\n",
       "      <td>MS.MIL.XPRT.KD</td>\n",
       "      <td>27000000.0</td>\n",
       "      <td>33000000.0</td>\n",
       "      <td>NaN</td>\n",
       "      <td>NaN</td>\n",
       "      <td>NaN</td>\n",
       "      <td>NaN</td>\n",
       "      <td>...</td>\n",
       "      <td>NaN</td>\n",
       "      <td>NaN</td>\n",
       "      <td>NaN</td>\n",
       "      <td>NaN</td>\n",
       "      <td>NaN</td>\n",
       "      <td>NaN</td>\n",
       "      <td>NaN</td>\n",
       "      <td>NaN</td>\n",
       "      <td>NaN</td>\n",
       "      <td>NaN</td>\n",
       "    </tr>\n",
       "  </tbody>\n",
       "</table>\n",
       "<p>2 rows × 68 columns</p>\n",
       "</div>"
      ],
      "text/plain": [
       "                  Country Name Country Code  \\\n",
       "0                        Aruba          ABW   \n",
       "1  Africa Eastern and Southern          AFE   \n",
       "\n",
       "                                Indicator Name  Indicator Code        1960  \\\n",
       "0  Arms exports (SIPRI trend indicator values)  MS.MIL.XPRT.KD         NaN   \n",
       "1  Arms exports (SIPRI trend indicator values)  MS.MIL.XPRT.KD  27000000.0   \n",
       "\n",
       "         1961  1962  1963  1964  1965  ...  2014  2015  2016  2017  2018  \\\n",
       "0         NaN   NaN   NaN   NaN   NaN  ...   NaN   NaN   NaN   NaN   NaN   \n",
       "1  33000000.0   NaN   NaN   NaN   NaN  ...   NaN   NaN   NaN   NaN   NaN   \n",
       "\n",
       "   2019  2020  2021  2022  Unnamed: 67  \n",
       "0   NaN   NaN   NaN   NaN          NaN  \n",
       "1   NaN   NaN   NaN   NaN          NaN  \n",
       "\n",
       "[2 rows x 68 columns]"
      ]
     },
     "execution_count": 3,
     "metadata": {},
     "output_type": "execute_result"
    }
   ],
   "source": [
    "df.head(2)"
   ]
  },
  {
   "cell_type": "code",
   "execution_count": 4,
   "id": "5c49e19d",
   "metadata": {},
   "outputs": [
    {
     "data": {
      "text/plain": [
       "Index(['Country Name', 'Country Code', 'Indicator Name', 'Indicator Code',\n",
       "       '1960', '1961', '1962', '1963', '1964', '1965', '1966', '1967', '1968',\n",
       "       '1969', '1970', '1971', '1972', '1973', '1974', '1975', '1976', '1977',\n",
       "       '1978', '1979', '1980', '1981', '1982', '1983', '1984', '1985', '1986',\n",
       "       '1987', '1988', '1989', '1990', '1991', '1992', '1993', '1994', '1995',\n",
       "       '1996', '1997', '1998', '1999', '2000', '2001', '2002', '2003', '2004',\n",
       "       '2005', '2006', '2007', '2008', '2009', '2010', '2011', '2012', '2013',\n",
       "       '2014', '2015', '2016', '2017', '2018', '2019', '2020', '2021', '2022',\n",
       "       'Unnamed: 67'],\n",
       "      dtype='object')"
      ]
     },
     "execution_count": 4,
     "metadata": {},
     "output_type": "execute_result"
    }
   ],
   "source": [
    "df.columns"
   ]
  },
  {
   "cell_type": "code",
   "execution_count": 5,
   "id": "87eef5f6",
   "metadata": {},
   "outputs": [],
   "source": [
    "df.drop(columns=['Country Name', 'Unnamed: 67', 'Indicator Code', 'Indicator Name'], inplace=True)"
   ]
  },
  {
   "cell_type": "code",
   "execution_count": 6,
   "id": "3fda8bab",
   "metadata": {},
   "outputs": [],
   "source": [
    "df = pd.DataFrame(df.set_index('Country Code').stack()).reset_index()"
   ]
  },
  {
   "cell_type": "code",
   "execution_count": 7,
   "id": "97bfdf79",
   "metadata": {},
   "outputs": [],
   "source": [
    "df.rename(columns={'level_1': 'Year', 0: 'Value'}, inplace=True)"
   ]
  },
  {
   "cell_type": "code",
   "execution_count": 8,
   "id": "7f06bb74",
   "metadata": {},
   "outputs": [
    {
     "data": {
      "text/html": [
       "<div>\n",
       "<style scoped>\n",
       "    .dataframe tbody tr th:only-of-type {\n",
       "        vertical-align: middle;\n",
       "    }\n",
       "\n",
       "    .dataframe tbody tr th {\n",
       "        vertical-align: top;\n",
       "    }\n",
       "\n",
       "    .dataframe thead th {\n",
       "        text-align: right;\n",
       "    }\n",
       "</style>\n",
       "<table border=\"1\" class=\"dataframe\">\n",
       "  <thead>\n",
       "    <tr style=\"text-align: right;\">\n",
       "      <th></th>\n",
       "      <th>Country Code</th>\n",
       "      <th>Year</th>\n",
       "      <th>Value</th>\n",
       "    </tr>\n",
       "  </thead>\n",
       "  <tbody>\n",
       "    <tr>\n",
       "      <th>0</th>\n",
       "      <td>ABW</td>\n",
       "      <td>1996</td>\n",
       "      <td>18000000.0</td>\n",
       "    </tr>\n",
       "    <tr>\n",
       "      <th>1</th>\n",
       "      <td>AFE</td>\n",
       "      <td>1960</td>\n",
       "      <td>27000000.0</td>\n",
       "    </tr>\n",
       "    <tr>\n",
       "      <th>2</th>\n",
       "      <td>AFE</td>\n",
       "      <td>1961</td>\n",
       "      <td>33000000.0</td>\n",
       "    </tr>\n",
       "    <tr>\n",
       "      <th>3</th>\n",
       "      <td>AFE</td>\n",
       "      <td>1967</td>\n",
       "      <td>5000000.0</td>\n",
       "    </tr>\n",
       "    <tr>\n",
       "      <th>4</th>\n",
       "      <td>AFE</td>\n",
       "      <td>1969</td>\n",
       "      <td>14000000.0</td>\n",
       "    </tr>\n",
       "    <tr>\n",
       "      <th>...</th>\n",
       "      <td>...</td>\n",
       "      <td>...</td>\n",
       "      <td>...</td>\n",
       "    </tr>\n",
       "    <tr>\n",
       "      <th>3135</th>\n",
       "      <td>ZAF</td>\n",
       "      <td>2019</td>\n",
       "      <td>142000000.0</td>\n",
       "    </tr>\n",
       "    <tr>\n",
       "      <th>3136</th>\n",
       "      <td>ZAF</td>\n",
       "      <td>2020</td>\n",
       "      <td>37000000.0</td>\n",
       "    </tr>\n",
       "    <tr>\n",
       "      <th>3137</th>\n",
       "      <td>ZMB</td>\n",
       "      <td>1990</td>\n",
       "      <td>2000000.0</td>\n",
       "    </tr>\n",
       "    <tr>\n",
       "      <th>3138</th>\n",
       "      <td>ZWE</td>\n",
       "      <td>1964</td>\n",
       "      <td>3000000.0</td>\n",
       "    </tr>\n",
       "    <tr>\n",
       "      <th>3139</th>\n",
       "      <td>ZWE</td>\n",
       "      <td>2001</td>\n",
       "      <td>4000000.0</td>\n",
       "    </tr>\n",
       "  </tbody>\n",
       "</table>\n",
       "<p>3140 rows × 3 columns</p>\n",
       "</div>"
      ],
      "text/plain": [
       "     Country Code  Year        Value\n",
       "0             ABW  1996   18000000.0\n",
       "1             AFE  1960   27000000.0\n",
       "2             AFE  1961   33000000.0\n",
       "3             AFE  1967    5000000.0\n",
       "4             AFE  1969   14000000.0\n",
       "...           ...   ...          ...\n",
       "3135          ZAF  2019  142000000.0\n",
       "3136          ZAF  2020   37000000.0\n",
       "3137          ZMB  1990    2000000.0\n",
       "3138          ZWE  1964    3000000.0\n",
       "3139          ZWE  2001    4000000.0\n",
       "\n",
       "[3140 rows x 3 columns]"
      ]
     },
     "execution_count": 8,
     "metadata": {},
     "output_type": "execute_result"
    }
   ],
   "source": [
    "df"
   ]
  },
  {
   "cell_type": "code",
   "execution_count": 9,
   "id": "cc12fc65",
   "metadata": {},
   "outputs": [],
   "source": [
    "mapper = pd.read_csv('../data/countries_info.csv').loc[:, ['Alpha-2 code', 'Alpha-3 code']]"
   ]
  },
  {
   "cell_type": "code",
   "execution_count": 10,
   "id": "ce202a56",
   "metadata": {},
   "outputs": [],
   "source": [
    "df = df.merge(right= mapper, left_on='Country Code', right_on='Alpha-3 code').drop(columns=['Country Code', 'Alpha-3 code']).rename(columns={'Alpha-2 code': 'Destination country'})\n"
   ]
  },
  {
   "cell_type": "code",
   "execution_count": 11,
   "id": "647228ba",
   "metadata": {},
   "outputs": [],
   "source": [
    "df.loc[:, 'Source country'] = 'DE'"
   ]
  },
  {
   "cell_type": "code",
   "execution_count": 12,
   "id": "f8ad3882",
   "metadata": {},
   "outputs": [],
   "source": [
    "df.loc[:, 'source_hash'] = 'cca72340c070e47d08c908db832e7119977e0dce2e287abdce5349a956c61d24'"
   ]
  },
  {
   "cell_type": "code",
   "execution_count": 13,
   "id": "fdc391c2",
   "metadata": {},
   "outputs": [
    {
     "data": {
      "text/html": [
       "<div>\n",
       "<style scoped>\n",
       "    .dataframe tbody tr th:only-of-type {\n",
       "        vertical-align: middle;\n",
       "    }\n",
       "\n",
       "    .dataframe tbody tr th {\n",
       "        vertical-align: top;\n",
       "    }\n",
       "\n",
       "    .dataframe thead th {\n",
       "        text-align: right;\n",
       "    }\n",
       "</style>\n",
       "<table border=\"1\" class=\"dataframe\">\n",
       "  <thead>\n",
       "    <tr style=\"text-align: right;\">\n",
       "      <th></th>\n",
       "      <th>Year</th>\n",
       "      <th>Value</th>\n",
       "      <th>Destination country</th>\n",
       "      <th>Source country</th>\n",
       "      <th>source_hash</th>\n",
       "    </tr>\n",
       "  </thead>\n",
       "  <tbody>\n",
       "    <tr>\n",
       "      <th>0</th>\n",
       "      <td>1996</td>\n",
       "      <td>18000000.0</td>\n",
       "      <td>AW</td>\n",
       "      <td>DE</td>\n",
       "      <td>cca72340c070e47d08c908db832e7119977e0dce2e287a...</td>\n",
       "    </tr>\n",
       "    <tr>\n",
       "      <th>1</th>\n",
       "      <td>1992</td>\n",
       "      <td>1000000.0</td>\n",
       "      <td>AF</td>\n",
       "      <td>DE</td>\n",
       "      <td>cca72340c070e47d08c908db832e7119977e0dce2e287a...</td>\n",
       "    </tr>\n",
       "    <tr>\n",
       "      <th>2</th>\n",
       "      <td>1979</td>\n",
       "      <td>3000000.0</td>\n",
       "      <td>AO</td>\n",
       "      <td>DE</td>\n",
       "      <td>cca72340c070e47d08c908db832e7119977e0dce2e287a...</td>\n",
       "    </tr>\n",
       "    <tr>\n",
       "      <th>3</th>\n",
       "      <td>1980</td>\n",
       "      <td>0.0</td>\n",
       "      <td>AO</td>\n",
       "      <td>DE</td>\n",
       "      <td>cca72340c070e47d08c908db832e7119977e0dce2e287a...</td>\n",
       "    </tr>\n",
       "    <tr>\n",
       "      <th>4</th>\n",
       "      <td>1992</td>\n",
       "      <td>8000000.0</td>\n",
       "      <td>AO</td>\n",
       "      <td>DE</td>\n",
       "      <td>cca72340c070e47d08c908db832e7119977e0dce2e287a...</td>\n",
       "    </tr>\n",
       "    <tr>\n",
       "      <th>...</th>\n",
       "      <td>...</td>\n",
       "      <td>...</td>\n",
       "      <td>...</td>\n",
       "      <td>...</td>\n",
       "      <td>...</td>\n",
       "    </tr>\n",
       "    <tr>\n",
       "      <th>2180</th>\n",
       "      <td>2019</td>\n",
       "      <td>142000000.0</td>\n",
       "      <td>ZA</td>\n",
       "      <td>DE</td>\n",
       "      <td>cca72340c070e47d08c908db832e7119977e0dce2e287a...</td>\n",
       "    </tr>\n",
       "    <tr>\n",
       "      <th>2181</th>\n",
       "      <td>2020</td>\n",
       "      <td>37000000.0</td>\n",
       "      <td>ZA</td>\n",
       "      <td>DE</td>\n",
       "      <td>cca72340c070e47d08c908db832e7119977e0dce2e287a...</td>\n",
       "    </tr>\n",
       "    <tr>\n",
       "      <th>2182</th>\n",
       "      <td>1990</td>\n",
       "      <td>2000000.0</td>\n",
       "      <td>ZM</td>\n",
       "      <td>DE</td>\n",
       "      <td>cca72340c070e47d08c908db832e7119977e0dce2e287a...</td>\n",
       "    </tr>\n",
       "    <tr>\n",
       "      <th>2183</th>\n",
       "      <td>1964</td>\n",
       "      <td>3000000.0</td>\n",
       "      <td>ZW</td>\n",
       "      <td>DE</td>\n",
       "      <td>cca72340c070e47d08c908db832e7119977e0dce2e287a...</td>\n",
       "    </tr>\n",
       "    <tr>\n",
       "      <th>2184</th>\n",
       "      <td>2001</td>\n",
       "      <td>4000000.0</td>\n",
       "      <td>ZW</td>\n",
       "      <td>DE</td>\n",
       "      <td>cca72340c070e47d08c908db832e7119977e0dce2e287a...</td>\n",
       "    </tr>\n",
       "  </tbody>\n",
       "</table>\n",
       "<p>2185 rows × 5 columns</p>\n",
       "</div>"
      ],
      "text/plain": [
       "      Year        Value Destination country Source country  \\\n",
       "0     1996   18000000.0                  AW             DE   \n",
       "1     1992    1000000.0                  AF             DE   \n",
       "2     1979    3000000.0                  AO             DE   \n",
       "3     1980          0.0                  AO             DE   \n",
       "4     1992    8000000.0                  AO             DE   \n",
       "...    ...          ...                 ...            ...   \n",
       "2180  2019  142000000.0                  ZA             DE   \n",
       "2181  2020   37000000.0                  ZA             DE   \n",
       "2182  1990    2000000.0                  ZM             DE   \n",
       "2183  1964    3000000.0                  ZW             DE   \n",
       "2184  2001    4000000.0                  ZW             DE   \n",
       "\n",
       "                                            source_hash  \n",
       "0     cca72340c070e47d08c908db832e7119977e0dce2e287a...  \n",
       "1     cca72340c070e47d08c908db832e7119977e0dce2e287a...  \n",
       "2     cca72340c070e47d08c908db832e7119977e0dce2e287a...  \n",
       "3     cca72340c070e47d08c908db832e7119977e0dce2e287a...  \n",
       "4     cca72340c070e47d08c908db832e7119977e0dce2e287a...  \n",
       "...                                                 ...  \n",
       "2180  cca72340c070e47d08c908db832e7119977e0dce2e287a...  \n",
       "2181  cca72340c070e47d08c908db832e7119977e0dce2e287a...  \n",
       "2182  cca72340c070e47d08c908db832e7119977e0dce2e287a...  \n",
       "2183  cca72340c070e47d08c908db832e7119977e0dce2e287a...  \n",
       "2184  cca72340c070e47d08c908db832e7119977e0dce2e287a...  \n",
       "\n",
       "[2185 rows x 5 columns]"
      ]
     },
     "execution_count": 13,
     "metadata": {},
     "output_type": "execute_result"
    }
   ],
   "source": [
    "df"
   ]
  },
  {
   "cell_type": "code",
   "execution_count": 14,
   "id": "d948aee2",
   "metadata": {},
   "outputs": [
    {
     "ename": "SyntaxError",
     "evalue": "invalid syntax (1089108509.py, line 1)",
     "output_type": "error",
     "traceback": [
      "\u001b[0;36m  Input \u001b[0;32mIn [14]\u001b[0;36m\u001b[0m\n\u001b[0;31m    df_source = pd.DataFrame({'source_url': 'https://data.worldbank.org/indicator/MS.MIL.XPRT.KD?locations=DE-PF', 'source_hash': 'cca72340c070e47d08c908db832e7119977e0dce2e287abdce5349a956c61d24', 'source_name': 'The World Bank', 'source_timestamp'})\u001b[0m\n\u001b[0m                                                                                                                                                                                                                                                         ^\u001b[0m\n\u001b[0;31mSyntaxError\u001b[0m\u001b[0;31m:\u001b[0m invalid syntax\n"
     ]
    }
   ],
   "source": [
    "#df_source = pd.DataFrame({'source_url': 'https://data.worldbank.org/indicator/MS.MIL.XPRT.KD?locations=DE-PF', 'source_hash': 'cca72340c070e47d08c908db832e7119977e0dce2e287abdce5349a956c61d24', 'source_name': 'The World Bank', 'source_retrieved_timestamp': })"
   ]
  },
  {
   "cell_type": "code",
   "execution_count": 16,
   "id": "7f6cab06",
   "metadata": {},
   "outputs": [],
   "source": [
    "from datetime import datetime\n",
    "\n",
    "timestamp = datetime.now()"
   ]
  },
  {
   "cell_type": "code",
   "execution_count": 17,
   "id": "3c7e7296",
   "metadata": {},
   "outputs": [
    {
     "data": {
      "text/plain": [
       "datetime.datetime(2023, 6, 22, 13, 33, 26, 175440)"
      ]
     },
     "execution_count": 17,
     "metadata": {},
     "output_type": "execute_result"
    }
   ],
   "source": [
    "timestamp"
   ]
  },
  {
   "cell_type": "code",
   "execution_count": 20,
   "id": "7f061bda",
   "metadata": {},
   "outputs": [],
   "source": [
    "df_source = pd.DataFrame({'source_url': ['https://data.worldbank.org/indicator/MS.MIL.XPRT.KD?'], 'source_hash': ['cca72340c070e47d08c908db832e7119977e0dce2e287abdce5349a956c61d24'], 'source_name': ['The World Bank'], 'source_retrieved_timestamp': [timestamp]})"
   ]
  },
  {
   "cell_type": "code",
   "execution_count": 22,
   "id": "36241d50",
   "metadata": {},
   "outputs": [],
   "source": [
    "df_source.to_csv('../data/sources.csv')"
   ]
  },
  {
   "cell_type": "code",
   "execution_count": null,
   "id": "804a852f",
   "metadata": {},
   "outputs": [],
   "source": []
  }
 ],
 "metadata": {
  "kernelspec": {
   "display_name": "taro",
   "language": "python",
   "name": "taro"
  },
  "language_info": {
   "codemirror_mode": {
    "name": "ipython",
    "version": 3
   },
   "file_extension": ".py",
   "mimetype": "text/x-python",
   "name": "python",
   "nbconvert_exporter": "python",
   "pygments_lexer": "ipython3",
   "version": "3.8.12"
  },
  "toc": {
   "base_numbering": 1,
   "nav_menu": {},
   "number_sections": true,
   "sideBar": true,
   "skip_h1_title": false,
   "title_cell": "Table of Contents",
   "title_sidebar": "Contents",
   "toc_cell": false,
   "toc_position": {},
   "toc_section_display": true,
   "toc_window_display": false
  }
 },
 "nbformat": 4,
 "nbformat_minor": 5
}
